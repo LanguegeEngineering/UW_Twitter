{
  "nbformat": 4,
  "nbformat_minor": 0,
  "metadata": {
    "colab": {
      "name": "Tweepy.ipynb",
      "provenance": [],
      "collapsed_sections": []
    },
    "kernelspec": {
      "name": "python3",
      "display_name": "Python 3"
    },
    "language_info": {
      "name": "python"
    }
  },
  "cells": [
    {
      "cell_type": "markdown",
      "source": [
        "# Tutorial dla Tweepy"
      ],
      "metadata": {
        "id": "xyzbOAlZ3o9i"
      }
    },
    {
      "cell_type": "markdown",
      "source": [
        "## Podstawowe możliwosci"
      ],
      "metadata": {
        "id": "cEGZP7WE3xe6"
      }
    },
    {
      "cell_type": "markdown",
      "source": [
        "### Instalacja i uwierzytelnienie\n",
        "\n",
        "Pobieramy najnowszą wersję."
      ],
      "metadata": {
        "id": "lLgVWP5q3vof"
      }
    },
    {
      "cell_type": "code",
      "execution_count": null,
      "metadata": {
        "id": "ARZclG1s2BzF"
      },
      "outputs": [],
      "source": [
        "!pip install tweepy --upgrade"
      ]
    },
    {
      "cell_type": "markdown",
      "source": [
        "Aby się uwierzytelnić używamy naszego tokenu z developer.twitter.com\n",
        "\n",
        "Poniższy został przyznany w ramach grantu akademickiego, pozwala na pobranie 10 milionow Twittow miesięcznie i korzystać z wszystkich fukcjonalnosć Twittera API (przede wszystkim z wyszukiwania Twittow starszych niż tydzień)."
      ],
      "metadata": {
        "id": "gLJf7gae38rI"
      }
    },
    {
      "cell_type": "code",
      "source": [
        "academic_bearer = \"\""
      ],
      "metadata": {
        "id": "0U_i6z6q2K73"
      },
      "execution_count": 12,
      "outputs": []
    },
    {
      "cell_type": "code",
      "source": [
        "import tweepy"
      ],
      "metadata": {
        "id": "W6xSXRKg3exQ"
      },
      "execution_count": null,
      "outputs": []
    },
    {
      "cell_type": "code",
      "source": [
        "client = tweepy.Client(academic_bearer)"
      ],
      "metadata": {
        "id": "Q1y8ULxq3l-r"
      },
      "execution_count": null,
      "outputs": []
    },
    {
      "cell_type": "markdown",
      "source": [
        "### Wyszukiwanie Tweetow\n",
        "\n",
        "W przypadku normalnego dostępu posługujemy się funkcją, ktora znajduje tweety z ostatniego tygodnia:"
      ],
      "metadata": {
        "id": "Uj2ZupeM3pFE"
      }
    },
    {
      "cell_type": "code",
      "source": [
        "query = 'from:JHaszczynski -is:retweet'\n",
        "tweet_fields = ['created_at']\n",
        "max_result = 10\n",
        "\n",
        "tweets = client.search_recent_tweets(query=query, tweet_fields=tweet_fields, max_results=max_result)\n",
        "\n",
        "for tweet in tweets.data:\n",
        "    print(tweet.text)\n",
        "    print(tweet.created_at)\n",
        "    print(\"\\n\\n\")\n"
      ],
      "metadata": {
        "id": "o-Ec5OfX91XU"
      },
      "execution_count": null,
      "outputs": []
    },
    {
      "cell_type": "markdown",
      "source": [
        "Mając dostęp do grantu akademickiego możemy brać tweety starsze niż tydzień korzystając z funkcji ```search_all_tweets```, maksymalna liczba zwracanych tweetow to 500"
      ],
      "metadata": {
        "id": "0myluqYTAgmf"
      }
    },
    {
      "cell_type": "code",
      "source": [
        "query = 'from:juliaioffe -is:retweet'\n",
        "tweet_fields = ['created_at']\n",
        "max_result = 250\n",
        "\n",
        "tweets = client.search_all_tweets(query=query, tweet_fields=tweet_fields, max_results=max_result)\n",
        "\n",
        "for tweet in tweets.data:\n",
        "    print(tweet.text)\n",
        "    print(tweet.created_at)\n",
        "    print(\"\\n\\n\")"
      ],
      "metadata": {
        "id": "9_vlAOs6AoXn"
      },
      "execution_count": null,
      "outputs": []
    },
    {
      "cell_type": "markdown",
      "source": [
        "### Zapis wielu tweetow do pliku"
      ],
      "metadata": {
        "id": "UNa3B8fLBWQ5"
      }
    },
    {
      "cell_type": "code",
      "source": [
        "query = 'from:juliaioffe -is:retweet'\n",
        "tweet_fields = ['created_at']\n",
        "max_result = 500\n",
        "number_of_wanted_tweets = 1000\n",
        "\n",
        "file_name = \"many_tweets.tsv\"\n",
        "with open(file_name, 'a+') as filehandle:\n",
        "    for tweet in tweepy.Paginator(client.search_all_tweets, query=query, tweet_fields=tweet_fields, max_results=max_result).flatten(limit=number_of_wanted_tweets):\n",
        "        filehandle.write(f\"{tweet.text}\\t{tweet.created_at}\\n\")"
      ],
      "metadata": {
        "id": "fKTSPerH1OPW"
      },
      "execution_count": null,
      "outputs": []
    },
    {
      "cell_type": "markdown",
      "source": [
        "### Użycie query z rożnymi znacznikami\n",
        "\n",
        "Lista znajduje się [tutaj](https://developer.twitter.com/en/docs/twitter-api/tweets/search/integrate/build-a-query)\n",
        "\n",
        "Poniżej kilka przykładow:\n",
        "\n"
      ],
      "metadata": {
        "id": "WvZNfFir1Oej"
      }
    },
    {
      "cell_type": "code",
      "source": [
        "query = '#Ukraine lang:en place_country:RU'\n",
        "tweet_fields = ['created_at']\n",
        "max_result = 50\n",
        "\n",
        "#tweets = client.search_all_tweets(query=query, tweet_fields=tweet_fields, max_results=max_result)\n",
        "\n",
        "#for tweet in tweets.data:\n",
        "#    print(tweet.text)\n",
        "#    print(tweet.created_at)\n",
        "#    print(\"\\n\\n\")"
      ],
      "metadata": {
        "id": "maeZi66OGlmX"
      },
      "execution_count": null,
      "outputs": []
    },
    {
      "cell_type": "markdown",
      "source": [
        "### Oczyszczania tweetow\n",
        "\n",
        "Informacje o wspomnianych użytkownikach oraz o retweetach znajduje się także w Twitter fields. "
      ],
      "metadata": {
        "id": "ExmU-M2XO8mk"
      }
    },
    {
      "cell_type": "code",
      "source": [
        "import re"
      ],
      "metadata": {
        "id": "N5fzgyFUPHTK"
      },
      "execution_count": null,
      "outputs": []
    },
    {
      "cell_type": "code",
      "source": [
        "RETWEETED_REGEX = r\"^RT @([^ ]+):\"\n",
        "USER_REGEX = r\"@([^ ]+)\"\n",
        "URL_REGEX = r\"https?:\\/\\/(www\\.)?[-a-zA-Z0-9@:%._\\+~#=]{1,256}\\.[a-zA-Z0-9()]{1,6}\\b([-a-zA-Z0-9()@:%_\\+.~#?&//=]*)\"\n"
      ],
      "metadata": {
        "id": "9Q-EKUaHPDn0"
      },
      "execution_count": null,
      "outputs": []
    },
    {
      "cell_type": "code",
      "source": [
        "def clean_tweet(tweet):\n",
        "    is_retweet = False if re.match(RETWEETED_REGEX, tweet) is None else True\n",
        "    di = {\"is_retweet\": is_retweet,\n",
        "          \"retweeted_user\": re.findall(RETWEETED_REGEX, tweet)[0] if is_retweet else \"\",\n",
        "          \"links\": re.findall(URL_REGEX, tweet)}\n",
        "    tweet = re.sub(RETWEETED_REGEX, \"\", tweet)\n",
        "    di[\"mentioned_users\"] = re.findall(USER_REGEX, tweet)\n",
        "    tweet = re.sub(USER_REGEX, \"\", tweet)\n",
        "    tweet = re.sub(URL_REGEX, \"\", tweet)\n",
        "    di[\"cleaned_tweet\"] = tweet.strip()\n",
        "    return di"
      ],
      "metadata": {
        "id": "ORVEdMpJPBzu"
      },
      "execution_count": null,
      "outputs": []
    },
    {
      "cell_type": "markdown",
      "source": [
        "### Użytkownicy\n",
        "\n",
        "Jak znaleźć użytkownikow danych tweetow"
      ],
      "metadata": {
        "id": "7ZGv5_y8fLvI"
      }
    },
    {
      "cell_type": "code",
      "source": [
        "query = 'Ukraina lang:pl place_country:PL'\n",
        "tweet_fields = ['created_at']\n",
        "max_result = 40\n",
        "expansion = \"author_id\"\n",
        "\n",
        "tweets = client.search_all_tweets(query=query, tweet_fields=tweet_fields, expansions=expansion, max_results=max_result)\n",
        "\n",
        "users = []\n",
        "\n",
        "for tweet in tweets.data:\n",
        "    tweet_dict = clean_tweet(tweet.text)\n",
        "    #print(tweet.author_id)\n",
        "    user = client.get_user(id=tweet.author_id, user_fields=[\"username\"])\n",
        "    print(user.data.name)\n",
        "    print(user.data.username)  #Username jest najważniejsze\n",
        "    print(tweet_dict[\"cleaned_tweet\"])\n",
        "    users.append(user.data.username)\n",
        "    print(\"\\n\\n\")"
      ],
      "metadata": {
        "id": "lpDYh_TdhEiS"
      },
      "execution_count": null,
      "outputs": []
    },
    {
      "cell_type": "markdown",
      "source": [
        "Jesli chcemy wypisać tweety konkretnych użytkownikow"
      ],
      "metadata": {
        "id": "wot9mGm5PiVo"
      }
    },
    {
      "cell_type": "code",
      "source": [
        "users_to_check_list = [\"AgnieszkaO2GA\",\n",
        "                          \"BeataDbrowska9\",\n",
        "                          \"Albert301271\",\n",
        "                          \"RenaTa99609630\",\n",
        "                          \"DemonDakki\",\n",
        "                          \"PoPrawnik2\",\n",
        "                          \"MarcJachacz\"]\n",
        "\n",
        "users_to_check_ids = [client.get_user(username=user).data.id for user in users_to_check_list]"
      ],
      "metadata": {
        "id": "CUuO4qA-ocfQ"
      },
      "execution_count": null,
      "outputs": []
    },
    {
      "cell_type": "code",
      "source": [
        "print(users_to_check_ids)"
      ],
      "metadata": {
        "id": "i1Wq_-fCx0Db"
      },
      "execution_count": null,
      "outputs": []
    },
    {
      "cell_type": "code",
      "source": [
        "tweet_fields = ['created_at']\n",
        "max_result = 10\n",
        "for user_id, user_name in zip(users_to_check_ids, users_to_check_list):\n",
        "  print(user_name)\n",
        "  tweets = client.get_users_tweets(user_id, max_results=max_result, tweet_fields=tweet_fields)\n",
        "  for tweet in tweets.data:\n",
        "    print(tweet.text)\n",
        "    print(tweet.created_at)\n",
        "  print(\"END OF THIS USER \\n\\n\\n\")"
      ],
      "metadata": {
        "id": "pnP7Gsokj8mh"
      },
      "execution_count": null,
      "outputs": []
    },
    {
      "cell_type": "markdown",
      "source": [
        "### Przykładowa klasa do sprawdzania podstawowych parametrow związanych z użytkownikiem:"
      ],
      "metadata": {
        "id": "IfQglEmmIwTm"
      }
    },
    {
      "cell_type": "code",
      "source": [
        "!pip install matplotlib\n",
        "!pip install pandas\n",
        "!pip install wordcloud\n"
      ],
      "metadata": {
        "id": "ALpSRFGPOEsq"
      },
      "execution_count": null,
      "outputs": []
    },
    {
      "cell_type": "code",
      "source": [
        "from wordcloud import WordCloud, STOPWORDS\n",
        "import matplotlib.pyplot as plt\n",
        "import pandas as pd"
      ],
      "metadata": {
        "id": "i1TwNPZaOL3Q"
      },
      "execution_count": null,
      "outputs": []
    },
    {
      "cell_type": "code",
      "source": [
        "def create_word_cloud(lista):\n",
        "  comment_words = ''\n",
        "  stopwords = set(STOPWORDS)\n",
        "  \n",
        "  for item in lista:\n",
        "      \n",
        "      tokens = item[\"cleaned_tweet\"].split()\n",
        "      tokens = [token.lower() for token in tokens]\n",
        "      comment_words += \" \".join(tokens)+\" \"\n",
        "  \n",
        "  wordcloud = WordCloud(width = 800, height = 800,\n",
        "                  background_color ='white',\n",
        "                  stopwords = stopwords,\n",
        "                  min_font_size = 10).generate(comment_words)\n",
        "  \n",
        "  plt.figure(figsize = (8, 8), facecolor = None)\n",
        "  plt.imshow(wordcloud)\n",
        "  plt.axis(\"off\")\n",
        "  plt.tight_layout(pad = 0)\n",
        "  \n",
        "  plt.show()"
      ],
      "metadata": {
        "id": "d4GZKvqKOgfy"
      },
      "execution_count": null,
      "outputs": []
    },
    {
      "cell_type": "code",
      "source": [
        "from datetime import datetime\n",
        "from datetime import timedelta\n",
        "\n",
        "def get_old_data(last_days_num):\n",
        "       now = datetime.now()\n",
        "       then = now - timedelta(days=last_days_num)\n",
        "       month = str(then.month).zfill(2)\n",
        "       day = str(then.day).zfill(2)\n",
        "       start_date = f\"{then.year}-{month}-{day}T00:00:00Z\"\n",
        "       return start_date"
      ],
      "metadata": {
        "id": "-EGWlEEnJWej"
      },
      "execution_count": null,
      "outputs": []
    },
    {
      "cell_type": "code",
      "source": [
        "class UserStats(object):\n",
        "    def __init__(self, user):\n",
        "        self.client = client\n",
        "        self.username = user\n",
        "        user = self.client.get_user(username=user, user_fields=[\"created_at\", \"public_metrics\", \"verified\"])\n",
        "        self.id = user.data.id\n",
        "        self.created = user.data.created_at\n",
        "        self.followers_number = user.data.public_metrics[\"followers_count\"]\n",
        "        self.followed_number = user.data.public_metrics[\"following_count\"]\n",
        "        self.tweet_number = user.data.public_metrics[\"tweet_count\"]\n",
        "        self.if_verified = user.data.verified\n",
        "\n",
        "    def get_tweets(self, previous_days=30):\n",
        "        self.previous_days = previous_days\n",
        "        old_data = get_old_data(previous_days)\n",
        "        query = f\"from:{self.username}\"\n",
        "        self.last_tweets = self.client.search_all_tweets(query, start_time=old_data, max_results=300, tweet_fields=[\"public_metrics\"])\n",
        "        self.processed_tweets = [clean_tweet(tweet.text) for tweet in self.last_tweets.data]\n",
        "\n",
        "    def calculate_popularity(self):\n",
        "        self.popularity_score = sum([tt.public_metrics[\"retweet_count\"] for tt in self.last_tweets.data]) + \\\n",
        "                                sum([tt.public_metrics[\"like_count\"] for tt in self.last_tweets.data])\n",
        "        self.reach_score = self.followers_number - self.followed_number\n",
        "\n",
        "    def get_followers(self, max_results=10):\n",
        "        followers = self.client.get_API().get_users_followers(self.id, max_results=max_results)\n",
        "        return [follower.username for follower in followers.data]\n",
        "\n",
        "    def print_basic_stats(self):\n",
        "        print(f\"Popularity score: {self.popularity_score}\")\n",
        "        print(f\"Reach score: {self.reach_score}\")\n"
      ],
      "metadata": {
        "id": "8qFprKSdI_SV"
      },
      "execution_count": null,
      "outputs": []
    },
    {
      "cell_type": "code",
      "source": [
        "    joe = UserStats(user=\"JoeBiden\")\n",
        "    joe.get_tweets(previous_days=60)\n",
        "    joe.calculate_popularity()\n",
        "    joe.print_basic_stats()\n",
        "    list_of_followers = joe.get_followers()\n",
        "    for follower in list_of_followers:\n",
        "        print(follower)"
      ],
      "metadata": {
        "id": "5lForYlRLRiY"
      },
      "execution_count": null,
      "outputs": []
    },
    {
      "cell_type": "code",
      "source": [
        "create_word_cloud(joe.processed_tweets)"
      ],
      "metadata": {
        "id": "3kVZaXDNPJnt"
      },
      "execution_count": null,
      "outputs": []
    },
    {
      "cell_type": "markdown",
      "source": [
        "### Zadania\n",
        "\n",
        "1. Sprobowac pisac własne zapytania (query) korzystając z instrukcji na stronie dokumentacji\n",
        "2. Moża poszukać roznego rodzaju propagandystow, stworzyć dla nich wordcloud, sprawdzić ich followersow itd. \n",
        "3. Stworzyć własną metrykę popularnosci np. srednia ilosc retweetow na dzień albo na pojedynczego tweeta - mozna wykorzystac te klasę"
      ],
      "metadata": {
        "id": "N-7Ph2qiLx70"
      }
    },
    {
      "cell_type": "code",
      "source": [
        ""
      ],
      "metadata": {
        "id": "HuexmF6ZLi1m"
      },
      "execution_count": null,
      "outputs": []
    }
  ]
}